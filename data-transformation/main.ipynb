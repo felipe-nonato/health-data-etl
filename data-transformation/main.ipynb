{
 "cells": [
  {
   "cell_type": "code",
   "execution_count": 8,
   "metadata": {},
   "outputs": [],
   "source": [
    "import tabula\n",
    "import os\n",
    "import pandas as pd\n",
    "import sys\n",
    "\n",
    "sys.path.append(\"/home/lipe/Codes/teste\")"
   ]
  },
  {
   "cell_type": "code",
   "execution_count": 12,
   "metadata": {},
   "outputs": [],
   "source": [
    "# Caminho para o PDF\n",
    "pdf_path = \"/home/lipe/Codes/teste/scraping/downloads/Anexo_I_Rol_2021RN_465.2021_RN627L.2024.pdf\"\n",
    "# Verifica se o arquivo existe\n",
    "if not os.path.exists(pdf_path):\n",
    "    raise FileNotFoundError(f\"O arquivo {pdf_path} não foi encontrado.\")"
   ]
  },
  {
   "cell_type": "code",
   "execution_count": 16,
   "metadata": {},
   "outputs": [
    {
     "name": "stdout",
     "output_type": "stream",
     "text": [
      "181 tabelas foram encontradas no PDF.\n"
     ]
    }
   ],
   "source": [
    "# Extrai as tabelas do PDF\n",
    "try:\n",
    "    tables = tabula.read_pdf(pdf_path, pages=\"all\", multiple_tables=True, lattice=True)\n",
    "    print(f\"{len(tables)} tabelas foram encontradas no PDF.\")\n",
    "    \n",
    "    # Combina todas as tabelas em um único DataFrame\n",
    "    combined_table = pd.concat(tables, ignore_index=True)\n",
    "except Exception as e:\n",
    "    print(f\"Erro ao extrair tabelas: {e}\")"
   ]
  },
  {
   "cell_type": "code",
   "execution_count": 17,
   "metadata": {},
   "outputs": [],
   "source": [
    "combined_table.rename(columns={\"OD\": \"Seg. Odontológica\", \"AMB\": \"Seg. Ambulatorial\"}, inplace=True)"
   ]
  },
  {
   "cell_type": "code",
   "execution_count": 18,
   "metadata": {},
   "outputs": [
    {
     "name": "stdout",
     "output_type": "stream",
     "text": [
      "Tabelas combinadas salvas em data-transformation/downloads/extracted_tables/Teste_Luis_Felipe_Ferreira.csv\n"
     ]
    }
   ],
   "source": [
    "# Salva a tabela combinada em um único arquivo CSV\n",
    "output_dir = \"data-transformation/downloads/extracted_tables\"\n",
    "os.makedirs(output_dir, exist_ok=True)\n",
    "output_path = os.path.join(output_dir, \"Teste_Luis_Felipe_Ferreira.csv\")\n",
    "combined_table.to_csv(output_path, index=False)\n",
    "print(f\"Tabelas combinadas salvas em {output_path}\")"
   ]
  }
 ],
 "metadata": {
  "kernelspec": {
   "display_name": "data-transformation",
   "language": "python",
   "name": "python3"
  },
  "language_info": {
   "codemirror_mode": {
    "name": "ipython",
    "version": 3
   },
   "file_extension": ".py",
   "mimetype": "text/x-python",
   "name": "python",
   "nbconvert_exporter": "python",
   "pygments_lexer": "ipython3",
   "version": "3.10.12"
  }
 },
 "nbformat": 4,
 "nbformat_minor": 2
}
