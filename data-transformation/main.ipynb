{
 "cells": [
  {
   "cell_type": "code",
   "execution_count": 4,
   "metadata": {},
   "outputs": [
    {
     "name": "stdout",
     "output_type": "stream",
     "text": [
      "Collecting tabula-py\n",
      "  Using cached tabula_py-2.10.0-py3-none-any.whl (12.0 MB)\n",
      "Collecting pandas>=0.25.3\n",
      "  Using cached pandas-2.2.3-cp310-cp310-manylinux_2_17_x86_64.manylinux2014_x86_64.whl (13.1 MB)\n",
      "Collecting numpy>1.24.4\n",
      "  Using cached numpy-2.2.4-cp310-cp310-manylinux_2_17_x86_64.manylinux2014_x86_64.whl (16.4 MB)\n",
      "Collecting distro\n",
      "  Using cached distro-1.9.0-py3-none-any.whl (20 kB)\n",
      "Requirement already satisfied: python-dateutil>=2.8.2 in /home/lipe/Codes/health-data-etl/venv/lib/python3.10/site-packages (from pandas>=0.25.3->tabula-py) (2.9.0.post0)\n",
      "Collecting tzdata>=2022.7\n",
      "  Using cached tzdata-2025.2-py2.py3-none-any.whl (347 kB)\n",
      "Collecting pytz>=2020.1\n",
      "  Using cached pytz-2025.2-py2.py3-none-any.whl (509 kB)\n",
      "Requirement already satisfied: six>=1.5 in /home/lipe/Codes/health-data-etl/venv/lib/python3.10/site-packages (from python-dateutil>=2.8.2->pandas>=0.25.3->tabula-py) (1.17.0)\n",
      "Installing collected packages: pytz, tzdata, numpy, distro, pandas, tabula-py\n",
      "Successfully installed distro-1.9.0 numpy-2.2.4 pandas-2.2.3 pytz-2025.2 tabula-py-2.10.0 tzdata-2025.2\n"
     ]
    }
   ],
   "source": [
    "!pip install tabula-py"
   ]
  },
  {
   "cell_type": "code",
   "execution_count": 6,
   "metadata": {},
   "outputs": [],
   "source": [
    "import tabula\n",
    "import os\n",
    "import pandas as pd\n",
    "import sys\n",
    "\n",
    "sys.path.append(\"/home/lipe/Codes/teste\")"
   ]
  },
  {
   "cell_type": "code",
   "execution_count": 7,
   "metadata": {},
   "outputs": [],
   "source": [
    "# Caminho para o PDF\n",
    "pdf_path = \"/home/lipe/Codes/health-data-etl/scraping/downloads/Anexo_I_Rol_2021RN_465.2021_RN627L.2024.pdf\"\n",
    "# Verifica se o arquivo existe\n",
    "if not os.path.exists(pdf_path):\n",
    "    raise FileNotFoundError(f\"O arquivo {pdf_path} não foi encontrado.\")"
   ]
  },
  {
   "cell_type": "code",
   "execution_count": 8,
   "metadata": {},
   "outputs": [
    {
     "name": "stderr",
     "output_type": "stream",
     "text": [
      "Failed to import jpype dependencies. Fallback to subprocess.\n",
      "No module named 'jpype'\n"
     ]
    },
    {
     "name": "stdout",
     "output_type": "stream",
     "text": [
      "181 tabelas foram encontradas no PDF.\n"
     ]
    }
   ],
   "source": [
    "# Extrai as tabelas do PDF\n",
    "try:\n",
    "    tables = tabula.read_pdf(pdf_path, pages=\"all\", multiple_tables=True, lattice=True)\n",
    "    print(f\"{len(tables)} tabelas foram encontradas no PDF.\")\n",
    "    \n",
    "    # Combina todas as tabelas em um único DataFrame\n",
    "    combined_table = pd.concat(tables, ignore_index=True)\n",
    "except Exception as e:\n",
    "    print(f\"Erro ao extrair tabelas: {e}\")"
   ]
  },
  {
   "cell_type": "code",
   "execution_count": 9,
   "metadata": {},
   "outputs": [],
   "source": [
    "combined_table.rename(columns={\"OD\": \"Seg. Odontológica\", \"AMB\": \"Seg. Ambulatorial\"}, inplace=True)"
   ]
  },
  {
   "cell_type": "code",
   "execution_count": 11,
   "metadata": {},
   "outputs": [
    {
     "name": "stdout",
     "output_type": "stream",
     "text": [
      "Tabelas combinadas salvas em downloads/extracted_tables/Teste_Luis_Felipe_Ferreira.csv\n"
     ]
    }
   ],
   "source": [
    "# Salva a tabela combinada em um único arquivo CSV\n",
    "output_dir = \"downloads/extracted_tables\"\n",
    "os.makedirs(output_dir, exist_ok=True)\n",
    "output_path = os.path.join(output_dir, \"Teste_Luis_Felipe_Ferreira.csv\")\n",
    "combined_table.to_csv(output_path, index=False)\n",
    "print(f\"Tabelas combinadas salvas em {output_path}\")"
   ]
  }
 ],
 "metadata": {
  "kernelspec": {
   "display_name": "venv",
   "language": "python",
   "name": "python3"
  },
  "language_info": {
   "codemirror_mode": {
    "name": "ipython",
    "version": 3
   },
   "file_extension": ".py",
   "mimetype": "text/x-python",
   "name": "python",
   "nbconvert_exporter": "python",
   "pygments_lexer": "ipython3",
   "version": "3.10.12"
  }
 },
 "nbformat": 4,
 "nbformat_minor": 2
}
